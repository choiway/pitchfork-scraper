{
 "cells": [
  {
   "cell_type": "code",
   "execution_count": 93,
   "metadata": {},
   "outputs": [],
   "source": [
    "import urllib.request\n",
    "from bs4 import BeautifulSoup\n",
    "import re\n",
    "import time\n",
    "import sqlite3\n"
   ]
  },
  {
   "cell_type": "code",
   "execution_count": 94,
   "metadata": {},
   "outputs": [],
   "source": [
    "def get_review(album, artist):\n",
    "    con = sqlite3.connect('reviews.db')\n",
    "    cur = con.cursor()\n",
    "    cur.execute(\"SELECT * FROM reviews WHERE album=? AND artist=?\", (album, artist))\n",
    "    return cur.fetchone()"
   ]
  },
  {
   "cell_type": "code",
   "execution_count": 95,
   "metadata": {},
   "outputs": [],
   "source": [
    "def insert_review(album, artist, rating):\n",
    "    con = sqlite3.connect(\"reviews.db\")\n",
    "    cur = con.cursor()\n",
    "    cur.execute(\"\"\"\n",
    "    INSERT INTO reviews (album, artist, rating) VALUES (?, ?, ?)\n",
    "    \"\"\", (album, artist, rating))\n",
    "    con.commit()"
   ]
  },
  {
   "cell_type": "code",
   "execution_count": 96,
   "metadata": {},
   "outputs": [],
   "source": [
    "with urllib.request.urlopen('https://pitchfork.com/reviews/albums/') as f:\n",
    "    soup = BeautifulSoup(f)\n",
    "\n",
    "# print(soup.prettify())"
   ]
  },
  {
   "cell_type": "code",
   "execution_count": 97,
   "metadata": {},
   "outputs": [],
   "source": [
    "# Get links to reviews\n",
    "links = soup.find_all('a', class_='review__link')\n",
    "for link in links:\n",
    "    url = 'https://pitchfork.com' + link.get('href')\n",
    "    with urllib.request.urlopen(url) as f:\n",
    "        review = BeautifulSoup(f)\n",
    "        album = review.body.main.article.header.find('h1').text\n",
    "        artist = review.body.main.article.header.find('ul').text\n",
    "        rating = review.body.main.article.header.find('div', class_=re.compile(\"^SplitScreenContentHeaderScoreBox\")).text\n",
    "        if get_review(album, artist) is None:\n",
    "            print(\"Inserting: \", album, \"--\", artist, \"--\", rating)\n",
    "            insert_review(album, artist, rating)\n",
    "        time.sleep(5.8)"
   ]
  }
 ],
 "metadata": {
  "kernelspec": {
   "display_name": "env",
   "language": "python",
   "name": "python3"
  },
  "language_info": {
   "codemirror_mode": {
    "name": "ipython",
    "version": 3
   },
   "file_extension": ".py",
   "mimetype": "text/x-python",
   "name": "python",
   "nbconvert_exporter": "python",
   "pygments_lexer": "ipython3",
   "version": "3.11.2"
  },
  "orig_nbformat": 4
 },
 "nbformat": 4,
 "nbformat_minor": 2
}
