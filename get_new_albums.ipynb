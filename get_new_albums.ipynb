{
 "cells": [
  {
   "cell_type": "code",
   "execution_count": 37,
   "metadata": {},
   "outputs": [],
   "source": [
    "import urllib.request\n",
    "from bs4 import BeautifulSoup\n",
    "import re\n",
    "import time\n",
    "import sqlite3\n",
    "from random import randint\n"
   ]
  },
  {
   "cell_type": "code",
   "execution_count": 38,
   "metadata": {},
   "outputs": [],
   "source": [
    "def get_review(album, artist):\n",
    "    con = sqlite3.connect('reviews.db')\n",
    "    cur = con.cursor()\n",
    "    cur.execute(\"SELECT * FROM reviews WHERE album=? AND artist=?\", (album, artist))\n",
    "    return cur.fetchone()"
   ]
  },
  {
   "cell_type": "code",
   "execution_count": 39,
   "metadata": {},
   "outputs": [],
   "source": [
    "def insert_review(album, artist, rating, release_year, genre, review_date):\n",
    "    con = sqlite3.connect(\"reviews.db\")\n",
    "    cur = con.cursor()\n",
    "    cur.execute(\"\"\"\n",
    "    INSERT INTO reviews (album, artist, rating, release_year, genre, review_date) VALUES (?, ?, ?, ?, ?, ?)\n",
    "    \"\"\", (album, artist, rating, release_year, genre, review_date))\n",
    "    con.commit()"
   ]
  },
  {
   "cell_type": "code",
   "execution_count": 40,
   "metadata": {},
   "outputs": [],
   "source": [
    "# Get links to reviews\n",
    "def parse_reviews(page):\n",
    "    with urllib.request.urlopen('https://pitchfork.com/reviews/albums/?page=' + str(page)) as f:\n",
    "        soup = BeautifulSoup(f)\n",
    "        links = soup.find_all('a', class_='review__link')\n",
    "        for link in links:\n",
    "            url = 'https://pitchfork.com' + link.get('href')\n",
    "            with urllib.request.urlopen(url) as f:\n",
    "                review = BeautifulSoup(f)\n",
    "                album = review.body.main.article.header.find('h1').text\n",
    "                artist = review.body.main.article.header.find('ul').text\n",
    "                rating = review.body.main.article.header.find('div', class_=re.compile(\"^SplitScreenContentHeaderScoreBox\")).text\n",
    "                release_year = review.body.main.article.header.find('time', class_=re.compile(\"^SplitScreenContentHeaderReleaseYear\")).text\n",
    "\n",
    "                info_items = review.body.main.article.header.find_all('div', class_=re.compile(\"^InfoSliceItem\"))\n",
    "                genre = info_items[0].text.split(\":\")[1].strip()\n",
    "                review_date = info_items[2].text.split(\":\")[1].strip()\n",
    "                print(album, \"--\", artist, \"--\", rating, \"--\", release_year, \"--\", genre, \"--\", review_date)\n",
    "\n",
    "                if get_review(album, artist) is None:\n",
    "                    print(\"> Inserting: \", album, \"|\", artist, \"|\", rating)\n",
    "                    insert_review(album, artist, rating, release_year, genre, review_date)\n",
    "                time.sleep(randint(5,18))"
   ]
  },
  {
   "cell_type": "code",
   "execution_count": 41,
   "metadata": {},
   "outputs": [
    {
     "name": "stdout",
     "output_type": "stream",
     "text": [
      "Parsing Reviews on page 1\n",
      "Crying Laughing Loving Lying -- Labi Siffre -- 9.0 -- 1972 -- Pop/R&B / Folk/Country -- June 11, 2023\n",
      "Metro Boomin Presents Spider-Man: Across the Spider-Verse (Soundtrack From and Inspired by the Motion Picture) -- Metro Boomin -- 6.4 -- 2023 -- Rap -- June 10, 2023\n",
      "The Age of Pleasure -- Janelle Monáe -- 7.6 -- 2023 -- Pop/R&B -- June 9, 2023\n",
      "Space Heavy -- King Krule -- 7.5 -- 2023 -- Rock -- June 9, 2023\n",
      "O Monolith -- Squid -- 7.3 -- 2023 -- Rock -- June 9, 2023\n",
      "Weathervanes -- Jason Isbell and the 400 Unit -- 7.5 -- 2023 -- Folk/Country -- June 8, 2023\n",
      "New Jazz -- Lunchbox -- 7.5 -- 2023 -- Rap -- June 8, 2023\n",
      "QWERTY EP -- Saya Gray -- 7.0 -- 2023 -- Pop/R&B -- June 8, 2023\n",
      "Wandering Rebel -- Juan Wauters -- 7.7 -- 2023 -- Rock -- June 7, 2023\n",
      "Jam City Presents EFM -- Jam City -- 7.4 -- 2023 -- Electronic -- June 7, 2023\n",
      "Zango -- Witch -- 7.7 -- 2023 -- Rock -- June 7, 2023\n",
      "> Inserting:  Zango -- Witch -- 7.7\n",
      "Orbs -- Anthony Naples -- 8.0 -- 2023 -- Electronic -- June 7, 2023\n",
      "> Inserting:  Orbs -- Anthony Naples -- 8.0\n"
     ]
    }
   ],
   "source": [
    "x = range(1, 15)\n",
    "for n in x:\n",
    "    print(\"Parsing Reviews on page\", n)\n",
    "    parse_reviews(n)\n",
    "    wait = randint(60,300)\n",
    "    print(\"...Waiting\", wait, \"seconds\")\n",
    "    time.sleep(wait)\n"
   ]
  }
 ],
 "metadata": {
  "kernelspec": {
   "display_name": "env",
   "language": "python",
   "name": "python3"
  },
  "language_info": {
   "codemirror_mode": {
    "name": "ipython",
    "version": 3
   },
   "file_extension": ".py",
   "mimetype": "text/x-python",
   "name": "python",
   "nbconvert_exporter": "python",
   "pygments_lexer": "ipython3",
   "version": "3.11.2"
  },
  "orig_nbformat": 4
 },
 "nbformat": 4,
 "nbformat_minor": 2
}
